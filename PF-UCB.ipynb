{
 "cells": [
  {
   "cell_type": "code",
   "execution_count": 30,
   "metadata": {},
   "outputs": [],
   "source": [
    "import numpy as np\n",
    "import matplotlib.pyplot as plt\n",
    "import tqdm\n",
    "from bandits import *\n",
    "from client import *\n",
    "from server import *\n",
    "from bandits_improved import *\n",
    "from client_improved import *\n",
    "from server_improved import *"
   ]
  },
  {
   "cell_type": "markdown",
   "metadata": {},
   "source": [
    "Performance"
   ]
  },
  {
   "cell_type": "code",
   "execution_count": 31,
   "metadata": {},
   "outputs": [
    {
     "name": "stdout",
     "output_type": "stream",
     "text": [
      "[0.25 0.25 0.25 0.25]\n",
      "[[1.   0.   0.   0.   0.9  0.4  0.35 0.35 0.5 ]\n",
      " [0.   1.   0.   0.   0.3  0.9  0.35 0.3  0.5 ]\n",
      " [0.   0.   1.   0.   0.35 0.35 0.9  0.3  0.5 ]\n",
      " [0.   0.   0.   1.   0.4  0.3  0.35 0.9  0.5 ]]\n"
     ]
    }
   ],
   "source": [
    "T = 10000\n",
    "K = 9\n",
    "M = 4\n",
    "alpha_list = np.array([0, 0.2, 0.5, 0.9, 1])\n",
    "#means = np.random.random((M, K))\n",
    "# alpha_list = np.array([0.75])\n",
    "\n",
    "\n",
    "\n",
    "means = np.array([[1 , 0, 0, 0, 0.9, 0.4, 0.35, 0.35, 0.5],\n",
    "                  [0, 1, 0, 0, 0.3, 0.9, 0.35, 0.3, 0.5],\n",
    "                  [0, 0, 1, 0, 0.35, 0.35, 0.9, 0.3, 0.5],\n",
    "                  [0, 0, 0, 1, 0.4, 0.3, 0.35, 0.9, 0.5]])\n",
    "\n",
    "n_simu = 10\n",
    "weights = np.ones(M)*(1/M)\n",
    "# weights = weights/(np.sum(weights))\n",
    "print(weights)\n",
    "print(means)"
   ]
  },
  {
   "cell_type": "code",
   "execution_count": 32,
   "metadata": {},
   "outputs": [],
   "source": [
    "def fp(p):\n",
    "    return 2**p*np.log(T)"
   ]
  },
  {
   "cell_type": "code",
   "execution_count": 33,
   "metadata": {},
   "outputs": [],
   "source": [
    "# try to load for a warm restart\n",
    "try:\n",
    "    regret_reward = np.load('scores/regret_reward.npy',allow_pickle=True).item()\n",
    "except FileNotFoundError:\n",
    "    regret_reward = {}\n",
    "    \n",
    "try:  \n",
    "    raw_regret = np.load('scores/raw_regret.npy',allow_pickle=True).item()\n",
    "except FileNotFoundError:\n",
    "    raw_regret = {}\n",
    "    \n",
    "try:  \n",
    "    local_reward = np.load('scores/local_reward.npy',allow_pickle=True).item()\n",
    "except FileNotFoundError:\n",
    "    local_reward = {}\n",
    "    \n",
    "try:  \n",
    "    global_reward = np.load('scores/global_reward.npy',allow_pickle=True).item()\n",
    "except FileNotFoundError:\n",
    "    global_reward = {}\n",
    "    \n",
    "try:  \n",
    "    mixed_reward = np.load('scores/mixed_reward.npy',allow_pickle=True).item()\n",
    "except FileNotFoundError:\n",
    "    mixed_reward = {}"
   ]
  },
  {
   "cell_type": "code",
   "execution_count": 28,
   "metadata": {},
   "outputs": [
    {
     "name": "stderr",
     "output_type": "stream",
     "text": [
      "Simulating P-Fed-UCB, alpha:0.0: 100%|██████████| 10/10 [00:19<00:00,  1.94s/it]\n"
     ]
    },
    {
     "name": "stdout",
     "output_type": "stream",
     "text": [
      "Std is:  0.0\n"
     ]
    },
    {
     "name": "stderr",
     "output_type": "stream",
     "text": [
      "Simulating P-Fed-UCB, alpha:0.2: 100%|██████████| 10/10 [00:17<00:00,  1.75s/it]\n"
     ]
    },
    {
     "name": "stdout",
     "output_type": "stream",
     "text": [
      "Std is:  83.39517727965251\n"
     ]
    },
    {
     "name": "stderr",
     "output_type": "stream",
     "text": [
      "Simulating P-Fed-UCB, alpha:0.5: 100%|██████████| 10/10 [00:17<00:00,  1.75s/it]\n"
     ]
    },
    {
     "name": "stdout",
     "output_type": "stream",
     "text": [
      "Std is:  58.61609550371908\n"
     ]
    },
    {
     "name": "stderr",
     "output_type": "stream",
     "text": [
      "Simulating P-Fed-UCB, alpha:0.9: 100%|██████████| 10/10 [00:17<00:00,  1.80s/it]\n"
     ]
    },
    {
     "name": "stdout",
     "output_type": "stream",
     "text": [
      "Std is:  58.93338152534525\n"
     ]
    },
    {
     "name": "stderr",
     "output_type": "stream",
     "text": [
      "Simulating P-Fed-UCB, alpha:1.0: 100%|██████████| 10/10 [00:18<00:00,  1.82s/it]"
     ]
    },
    {
     "name": "stdout",
     "output_type": "stream",
     "text": [
      "Std is:  68.57884843859436\n"
     ]
    },
    {
     "name": "stderr",
     "output_type": "stream",
     "text": [
      "\n"
     ]
    }
   ],
   "source": [
    "try:\n",
    "    for alpha in alpha_list:\n",
    "        try:\n",
    "            # the number of runs to run for this algo\n",
    "            nalgo = n_simu-len(raw_regret[str(round(alpha,2))])\n",
    "            stds=0\n",
    "        except KeyError:\n",
    "            # case of algo not loaded (ie 0 run already done)\n",
    "            raw_regret[str(round(alpha,2))] = []\n",
    "            local_reward[str(round(alpha,2))] = []\n",
    "            global_reward[str(round(alpha,2))] = []\n",
    "            mixed_reward[str(round(alpha,2))] = []\n",
    "            nalgo = n_simu\n",
    "            stds=0\n",
    "\n",
    "        for i in tqdm.tqdm(range(nalgo), desc=\"Simulating {}\".format(\"P-Fed-UCB, alpha:\"+str(alpha))):\n",
    "            pfed = PFEDUCB(fp, T, means, alpha, weights) # simulate a run with the chosen parameters\n",
    "            mixed_regret_1, local_reward_1, global_reward_1, mixed_reward_1, client_std = pfed.simulate()\n",
    "            raw_regret[str(round(alpha,2))].append(mixed_regret_1)  \n",
    "            local_reward[str(round(alpha,2))].append(local_reward_1)\n",
    "            global_reward[str(round(alpha,2))].append(global_reward_1)\n",
    "            mixed_reward[str(round(alpha,2))].append(mixed_reward_1)\n",
    "            stds+=client_std\n",
    "            \n",
    "            regret_reward[str(round(alpha,2))] = [np.mean(raw_regret[str(round(alpha,2))], axis=0),\n",
    "                                np.std(raw_regret[str(round(alpha,2))], axis=0),\n",
    "                                np.min(raw_regret[str(round(alpha,2))], axis=0),\n",
    "                                np.max(raw_regret[str(round(alpha,2))], axis=0),\n",
    "                                np.mean(local_reward[str(round(alpha,2))], axis=0),\n",
    "                                np.mean(global_reward[str(round(alpha,2))], axis=0),\n",
    "                                np.mean(mixed_reward[str(round(alpha,2))], axis=0)]\n",
    "            \n",
    "            del mixed_regret_1, local_reward_1, global_reward_1, mixed_reward_1\n",
    "        print(\"Std is: \", stds/nalgo)\n",
    "\n",
    "    # also saves the scores if we ran the whole algorithm without interrupting\n",
    "    np.save('scores/raw_regret.npy', raw_regret)\n",
    "    np.save('scores/local_reward.npy',local_reward)\n",
    "    np.save('scores/global_reward.npy',global_reward)\n",
    "    np.save('scores/mixed_reward.npy',mixed_reward)\n",
    "    np.save('scores/regret_reward.npy', regret_reward)\n",
    "    del raw_regret, local_reward, global_reward, mixed_reward, regret_reward\n",
    "\n",
    "    \n",
    "except KeyboardInterrupt:\n",
    "    # save in case of interruption\n",
    "    print('alpha:', alpha, 'Number of tries ran: ', len(raw_regret[str(round(alpha,2))]))\n",
    "    np.save('scores/raw_regret.npy', raw_regret)\n",
    "    np.save('scores/local_reward.npy',local_reward)\n",
    "    np.save('scores/global_reward.npy',global_reward)\n",
    "    np.save('scores/mixed_reward.npy',mixed_reward)\n",
    "    np.save('scores/regret_reward.npy', regret_reward)\n",
    "    del raw_regret, local_reward, global_reward, regret_reward"
   ]
  },
  {
   "cell_type": "code",
   "execution_count": 29,
   "metadata": {},
   "outputs": [
    {
     "data": {
      "image/png": "[encoded data removed]",
      "text/plain": [
       "<Figure size 648x432 with 1 Axes>"
      ]
     },
     "metadata": {
      "needs_background": "light"
     },
     "output_type": "display_data"
    }
   ],
   "source": [
    "try:\n",
    "    \n",
    "    regret_reward = np.load('scores/regret_reward.npy',allow_pickle=True).item()\n",
    "except FileNotFoundError:\n",
    "    regret_reward = {}\n",
    "    \n",
    "horizon_plot = -1\n",
    "fig = plt.figure(1,figsize=(9,6))\n",
    "for alpha in alpha_list:\n",
    "    plt.plot(regret_reward[str(round(alpha,2))][0][:horizon_plot], label=str(alpha))\n",
    "plt.xlabel('$t$', fontsize=20)\n",
    "plt.ylabel('Regret', fontsize=20)\n",
    "plt.legend(fontsize=14)\n",
    "plt.grid(alpha=0.5)"
   ]
  },
  {
   "cell_type": "markdown",
   "metadata": {},
   "source": [
    "Enhancement"
   ]
  },
  {
   "cell_type": "code",
   "execution_count": null,
   "metadata": {},
   "outputs": [],
   "source": [
    "T = 500000\n",
    "\n",
    "K = 9\n",
    "M = 4\n",
    "alpha_list = np.array([0.5])\n",
    "means = np.load(\"means.npy\")\n",
    "n_simu = 10"
   ]
  },
  {
   "cell_type": "code",
   "execution_count": null,
   "metadata": {},
   "outputs": [],
   "source": [
    "# try to load for a warm restart\n",
    "try:\n",
    "    regret_reward = np.load('scores_improved/imp_regret_reward.npy',allow_pickle=True).item()\n",
    "except FileNotFoundError:\n",
    "    regret_reward = {}\n",
    "    \n",
    "try:  \n",
    "    raw_regret = np.load('scores_improved/imp_raw_regret.npy',allow_pickle=True).item()\n",
    "except FileNotFoundError:\n",
    "    raw_regret = {}\n",
    "    \n",
    "try:  \n",
    "    local_reward = np.load('scores_improved/imp_local_reward.npy',allow_pickle=True).item()\n",
    "except FileNotFoundError:\n",
    "    local_reward = {}\n",
    "    \n",
    "try:  \n",
    "    global_reward = np.load('scores_improved/imp_global_reward.npy',allow_pickle=True).item()\n",
    "except FileNotFoundError:\n",
    "    global_reward = {}\n",
    "    \n",
    "try:  \n",
    "    mixed_reward = np.load('scores_improved/imp_mixed_reward.npy',allow_pickle=True).item()\n",
    "except FileNotFoundError:\n",
    "    mixed_reward = {}"
   ]
  },
  {
   "cell_type": "code",
   "execution_count": null,
   "metadata": {},
   "outputs": [],
   "source": [
    "try:\n",
    "    for alpha in alpha_list:\n",
    "        try:\n",
    "            # the number of runs to run for this algo\n",
    "            nalgo = n_simu-len(raw_regret[str(round(alpha,2))])\n",
    "        except KeyError:\n",
    "            # case of algo not loaded (ie 0 run already done)\n",
    "            raw_regret[str(round(alpha,2))] = []\n",
    "            local_reward[str(round(alpha,2))] = []\n",
    "            global_reward[str(round(alpha,2))] = []\n",
    "            mixed_reward[str(round(alpha,2))] = []\n",
    "            nalgo = n_simu\n",
    "\n",
    "        for i in tqdm.tqdm(range(nalgo), desc=\"Simulating {}\".format(\"Imp P-Fed-UCB, alpha:\"+str(alpha))):\n",
    "            pfed = IMP_PFEDUCB(fp, T, means, alpha) # simulate a run with the chosen parameters\n",
    "            mixed_regret_1, local_reward_1, global_reward_1, mixed_reward_1 = pfed.simulate()\n",
    "            raw_regret[str(round(alpha,2))].append(mixed_regret_1)  \n",
    "            local_reward[str(round(alpha,2))].append(local_reward_1)\n",
    "            global_reward[str(round(alpha,2))].append(global_reward_1)\n",
    "            mixed_reward[str(round(alpha,2))].append(mixed_reward_1)\n",
    "            \n",
    "            regret_reward[str(round(alpha,2))] = [np.mean(raw_regret[str(round(alpha,2))], axis=0),\n",
    "                                np.std(raw_regret[str(round(alpha,2))], axis=0),\n",
    "                                np.min(raw_regret[str(round(alpha,2))], axis=0),\n",
    "                                np.max(raw_regret[str(round(alpha,2))], axis=0),\n",
    "                                np.mean(local_reward[str(round(alpha,2))], axis=0),\n",
    "                                np.mean(global_reward[str(round(alpha,2))], axis=0),\n",
    "                                np.mean(mixed_reward[str(round(alpha,2))], axis=0)]\n",
    "            \n",
    "            del mixed_regret_1, local_reward_1, global_reward_1, mixed_reward_1\n",
    "\n",
    "    # also saves the scores if we ran the whole algorithm without interrupting\n",
    "    np.save('scores_improved/imp_raw_regret.npy', raw_regret)\n",
    "    np.save('scores_improved/imp_local_reward.npy',local_reward)\n",
    "    np.save('scores_improved/imp_global_reward.npy',global_reward)\n",
    "    np.save('scores_improved/imp_mixed_reward.npy',mixed_reward)\n",
    "    np.save('scores_improved/imp_regret_reward.npy', regret_reward)\n",
    "    del raw_regret, local_reward, global_reward, mixed_reward, regret_reward\n",
    "\n",
    "    \n",
    "except KeyboardInterrupt:\n",
    "    # save in case of interruption\n",
    "    print('alpha:', alpha, 'Number of tries ran: ', len(raw_regret[str(alpha)]))\n",
    "    np.save('scores_improved/imp_raw_regret.npy', raw_regret)\n",
    "    np.save('scores_improved/imp_local_reward.npy',local_reward)\n",
    "    np.save('scores_improved/imp_global_reward.npy',global_reward)\n",
    "    np.save('scores_improved/imp_mixed_reward.npy',mixed_reward)\n",
    "    np.save('scores_improved/imp_regret_reward.npy', regret_reward)\n",
    "    del raw_regret, local_reward, global_reward, regret_reward"
   ]
  },
  {
   "cell_type": "code",
   "execution_count": null,
   "metadata": {},
   "outputs": [],
   "source": [
    "# try to load for a warm restart\n",
    "try:\n",
    "    regret_reward = np.load('scores_improved/regret_reward.npy',allow_pickle=True).item()\n",
    "except FileNotFoundError:\n",
    "    regret_reward = {}\n",
    "    \n",
    "try:  \n",
    "    raw_regret = np.load('scores_improved/raw_regret.npy',allow_pickle=True).item()\n",
    "except FileNotFoundError:\n",
    "    raw_regret = {}\n",
    "    \n",
    "try:  \n",
    "    local_reward = np.load('scores_improved/local_reward.npy',allow_pickle=True).item()\n",
    "except FileNotFoundError:\n",
    "    local_reward = {}\n",
    "    \n",
    "try:  \n",
    "    global_reward = np.load('scores_improved/global_reward.npy',allow_pickle=True).item()\n",
    "except FileNotFoundError:\n",
    "    global_reward = {}\n",
    "    \n",
    "try:  \n",
    "    mixed_reward = np.load('scores_improved/mixed_reward.npy',allow_pickle=True).item()\n",
    "except FileNotFoundError:\n",
    "    mixed_reward = {}"
   ]
  },
  {
   "cell_type": "code",
   "execution_count": null,
   "metadata": {},
   "outputs": [],
   "source": [
    "try:\n",
    "    for alpha in alpha_list:\n",
    "        try:\n",
    "            # the number of runs to run for this algo\n",
    "            nalgo = n_simu-len(raw_regret[str(round(alpha,2))])\n",
    "        except KeyError:\n",
    "            # case of algo not loaded (ie 0 run already done)\n",
    "            raw_regret[str(round(alpha,2))] = []\n",
    "            local_reward[str(round(alpha,2))] = []\n",
    "            global_reward[str(round(alpha,2))] = []\n",
    "            mixed_reward[str(round(alpha,2))] = []\n",
    "            nalgo = n_simu\n",
    "\n",
    "        for i in tqdm.tqdm(range(nalgo), desc=\"Simulating {}\".format(\"P-Fed-UCB, alpha:\"+str(alpha))):\n",
    "            pfed = PFEDUCB(fp, T, means, alpha) # simulate a run with the chosen parameters\n",
    "            mixed_regret_1, local_reward_1, global_reward_1, mixed_reward_1 = pfed.simulate()\n",
    "            raw_regret[str(round(alpha,2))].append(mixed_regret_1)  \n",
    "            local_reward[str(round(alpha,2))].append(local_reward_1)\n",
    "            global_reward[str(round(alpha,2))].append(global_reward_1)\n",
    "            mixed_reward[str(round(alpha,2))].append(mixed_reward_1)\n",
    "            \n",
    "            regret_reward[str(round(alpha,2))] = [np.mean(raw_regret[str(round(alpha,2))], axis=0),\n",
    "                                np.std(raw_regret[str(round(alpha,2))], axis=0),\n",
    "                                np.min(raw_regret[str(round(alpha,2))], axis=0),\n",
    "                                np.max(raw_regret[str(round(alpha,2))], axis=0),\n",
    "                                np.mean(local_reward[str(round(alpha,2))], axis=0),\n",
    "                                np.mean(global_reward[str(round(alpha,2))], axis=0),\n",
    "                                np.mean(mixed_reward[str(round(alpha,2))], axis=0)]\n",
    "            \n",
    "            del mixed_regret_1, local_reward_1, global_reward_1, mixed_reward_1\n",
    "\n",
    "    # also saves the scores if we ran the whole algorithm without interrupting\n",
    "    np.save('scores_improved/raw_regret.npy', raw_regret)\n",
    "    np.save('scores_improved/local_reward.npy',local_reward)\n",
    "    np.save('scores_improved/global_reward.npy',global_reward)\n",
    "    np.save('scores_improved/mixed_reward.npy',mixed_reward)\n",
    "    np.save('scores_improved/regret_reward.npy', regret_reward)\n",
    "    del raw_regret, local_reward, global_reward, mixed_reward, regret_reward\n",
    "\n",
    "    \n",
    "except KeyboardInterrupt:\n",
    "    # save in case of interruption\n",
    "    print('alpha:', alpha, 'Number of tries ran: ', len(raw_regret[str(alpha)]))\n",
    "    np.save('scores_improved/raw_regret.npy', raw_regret)\n",
    "    np.save('scores_improved/local_reward.npy',local_reward)\n",
    "    np.save('scores_improved/global_reward.npy',global_reward)\n",
    "    np.save('scores_improved/mixed_reward.npy',mixed_reward)\n",
    "    np.save('scores_improved/regret_reward.npy', regret_reward)\n",
    "    del raw_regret, local_reward, global_reward, regret_reward"
   ]
  },
  {
   "cell_type": "code",
   "execution_count": null,
   "metadata": {},
   "outputs": [],
   "source": [
    "try:\n",
    "    regret_reward = np.load('scores_improved/regret_reward.npy',allow_pickle=True).item()\n",
    "except FileNotFoundError:\n",
    "    regret_reward = {}\n",
    "    \n",
    "horizon_plot = -1\n",
    "fig = plt.figure(1,figsize=(9,6))\n",
    "for alpha in alpha_list:\n",
    "    plt.plot(regret_reward[str(round(alpha,2))][0][:horizon_plot], label=str(alpha))\n",
    "    \n",
    "try:\n",
    "    regret_reward = np.load('scores_improved/imp_regret_reward.npy',allow_pickle=True).item()\n",
    "except FileNotFoundError:\n",
    "    regret_reward = {}\n",
    "    \n",
    "for alpha in alpha_list:\n",
    "    plt.plot(regret_reward[str(round(alpha,2))][0][:horizon_plot], label='imp '+str(alpha))   \n",
    "\n",
    "plt.xlabel('$t$', fontsize=20)\n",
    "plt.ylabel('Regret', fontsize=20)\n",
    "plt.legend(fontsize=14)\n",
    "plt.grid(alpha=0.5)"
   ]
  },
  {
   "cell_type": "code",
   "execution_count": null,
   "metadata": {},
   "outputs": [],
   "source": [
    "T = 20000000\n",
    "\n",
    "#alpha_list = np.linspace(0, 1, num=6)\n",
    "alpha_list = np.array([0.6])\n",
    "#means = np.random.random((M, K))\n",
    "\n",
    "\n",
    "means = np.load(\"movielens_norm_10_40.npy\")\n",
    "M = means.shape[0]\n",
    "K = means.shape[1]\n",
    "\n",
    "n_simu = 2\n",
    "weights = np.ones(M)*(1/M)"
   ]
  },
  {
   "cell_type": "code",
   "execution_count": null,
   "metadata": {},
   "outputs": [],
   "source": [
    "# try to load for a warm restart\n",
    "try:\n",
    "    regret_reward = np.load('scores_movielens/raw_regret_reward_10_40.npy',allow_pickle=True).item()\n",
    "except FileNotFoundError:\n",
    "    regret_reward = {}\n",
    "    \n",
    "try:  \n",
    "    raw_regret = np.load('scores_movielens/raw_regret_10_40.npy',allow_pickle=True).item()\n",
    "except FileNotFoundError:\n",
    "    raw_regret = {}\n",
    "    \n",
    "try:  \n",
    "    local_reward = np.load('scores_movielens/local_reward_10_40.npy',allow_pickle=True).item()\n",
    "except FileNotFoundError:\n",
    "    local_reward = {}\n",
    "    \n",
    "try:  \n",
    "    global_reward = np.load('scores_movielens/global_reward_10_40.npy',allow_pickle=True).item()\n",
    "except FileNotFoundError:\n",
    "    global_reward = {}\n",
    "    \n",
    "try:  \n",
    "    mixed_reward = np.load('scores_movielens/mixed_reward_10_40.npy',allow_pickle=True).item()\n",
    "except FileNotFoundError:\n",
    "    mixed_reward = {}"
   ]
  },
  {
   "cell_type": "code",
   "execution_count": null,
   "metadata": {},
   "outputs": [],
   "source": [
    "try:\n",
    "    for alpha in alpha_list:\n",
    "        try:\n",
    "            # the number of runs to run for this algo\n",
    "            nalgo = n_simu-len(raw_regret[str(round(alpha,2))])\n",
    "        except KeyError:\n",
    "            # case of algo not loaded (ie 0 run already done)\n",
    "            raw_regret[str(round(alpha,2))] = []\n",
    "            local_reward[str(round(alpha,2))] = []\n",
    "            global_reward[str(round(alpha,2))] = []\n",
    "            mixed_reward[str(round(alpha,2))] = []\n",
    "            nalgo = n_simu\n",
    "            stds=0\n",
    "\n",
    "        for i in tqdm.tqdm(range(nalgo), desc=\"Simulating {}\".format(\"P-Fed-UCB, alpha:\"+str(alpha))):\n",
    "            pfed = PFEDUCB(fp, T, means, alpha, weights) # simulate a run with the chosen parameters\n",
    "            mixed_regret_1, local_reward_1, global_reward_1, mixed_reward_1, client_std = pfed.simulate()\n",
    "            raw_regret[str(round(alpha,2))].append(mixed_regret_1)  \n",
    "            local_reward[str(round(alpha,2))].append(local_reward_1)\n",
    "            global_reward[str(round(alpha,2))].append(global_reward_1)\n",
    "            mixed_reward[str(round(alpha,2))].append(mixed_reward_1)\n",
    "            stds+=client_std\n",
    "            \n",
    "            regret_reward[str(round(alpha,2))] = [np.mean(raw_regret[str(round(alpha,2))], axis=0),\n",
    "                                np.std(raw_regret[str(round(alpha,2))], axis=0),\n",
    "                                np.min(raw_regret[str(round(alpha,2))], axis=0),\n",
    "                                np.max(raw_regret[str(round(alpha,2))], axis=0),\n",
    "                                np.mean(local_reward[str(round(alpha,2))], axis=0),\n",
    "                                np.mean(global_reward[str(round(alpha,2))], axis=0),\n",
    "                                np.mean(mixed_reward[str(round(alpha,2))], axis=0)]\n",
    "            \n",
    "            del mixed_regret_1, local_reward_1, global_reward_1, mixed_reward_1\n",
    "        print(\"Std is: \", stds/nalgo)\n",
    "\n",
    "    # also saves the scores if we ran the whole algorithm without interrupting\n",
    "    np.save('scores_movielens/raw_regret.npy', raw_regret)\n",
    "    np.save('scores_movielens/local_reward.npy',local_reward)\n",
    "    np.save('scores_movielens/global_reward.npy',global_reward)\n",
    "    np.save('scores_movielens/mixed_reward.npy',mixed_reward)\n",
    "    np.save('scores_movielens/regret_reward.npy', regret_reward)\n",
    "    del raw_regret, local_reward, global_reward, mixed_reward, regret_reward\n",
    "\n",
    "    \n",
    "except KeyboardInterrupt:\n",
    "    # save in case of interruption\n",
    "    print('alpha:', alpha, 'Number of tries ran: ', len(raw_regret[str(round(alpha,2))]))\n",
    "    np.save('scores_movielens/raw_regret.npy', raw_regret)\n",
    "    np.save('scores_movielens/local_reward.npy',local_reward)\n",
    "    np.save('scores_movielens/global_reward.npy',global_reward)\n",
    "    np.save('scores_movielens/mixed_reward.npy',mixed_reward)\n",
    "    np.save('scores_movielens/regret_reward.npy', regret_reward)\n",
    "    del raw_regret, local_reward, global_reward, regret_reward"
   ]
  },
  {
   "cell_type": "code",
   "execution_count": null,
   "metadata": {},
   "outputs": [],
   "source": [
    "#might be previous\n",
    "try:\n",
    "    for alpha in alpha_list:\n",
    "        try:\n",
    "            # the number of runs to run for this algo\n",
    "            nalgo = n_simu-len(raw_regret[str(round(alpha,2))])\n",
    "        except KeyError:\n",
    "            # case of algo not loaded (ie 0 run already done)\n",
    "            raw_regret[str(round(alpha,2))] = []\n",
    "            local_reward[str(round(alpha,2))] = []\n",
    "            global_reward[str(round(alpha,2))] = []\n",
    "            mixed_reward[str(round(alpha,2))] = []\n",
    "            nalgo = n_simu\n",
    "            stds=0\n",
    "\n",
    "        for i in tqdm.tqdm(range(nalgo), desc=\"Simulating {}\".format(\"P-Fed-UCB, alpha:\"+str(alpha))):\n",
    "            pfed = PFEDUCB(fp, T, means, alpha, weights) # simulate a run with the chosen parameters\n",
    "            mixed_regret_1, local_reward_1, global_reward_1, mixed_reward_1, client_std = pfed.simulate()\n",
    "            raw_regret[str(round(alpha,2))].append(mixed_regret_1)  \n",
    "            local_reward[str(round(alpha,2))].append(local_reward_1)\n",
    "            global_reward[str(round(alpha,2))].append(global_reward_1)\n",
    "            mixed_reward[str(round(alpha,2))].append(mixed_reward_1)\n",
    "            stds+=client_std\n",
    "            \n",
    "            regret_reward[str(round(alpha,2))] = [np.mean(raw_regret[str(round(alpha,2))], axis=0),\n",
    "                                np.std(raw_regret[str(round(alpha,2))], axis=0),\n",
    "                                np.min(raw_regret[str(round(alpha,2))], axis=0),\n",
    "                                np.max(raw_regret[str(round(alpha,2))], axis=0),\n",
    "                                np.mean(local_reward[str(round(alpha,2))], axis=0),\n",
    "                                np.mean(global_reward[str(round(alpha,2))], axis=0),\n",
    "                                np.mean(mixed_reward[str(round(alpha,2))], axis=0)]\n",
    "            \n",
    "            del mixed_regret_1, local_reward_1, global_reward_1, mixed_reward_1\n",
    "        print(\"Std is: \", stds/nalgo)\n",
    "\n",
    "    # also saves the scores if we ran the whole algorithm without interrupting\n",
    "    np.save('scores/raw_regret.npy', raw_regret)\n",
    "    np.save('scores/local_reward.npy',local_reward)\n",
    "    np.save('scores/global_reward.npy',global_reward)\n",
    "    np.save('scores/mixed_reward.npy',mixed_reward)\n",
    "    np.save('scores/regret_reward.npy', regret_reward)\n",
    "    del raw_regret, local_reward, global_reward, mixed_reward, regret_reward\n",
    "\n",
    "    \n",
    "except KeyboardInterrupt:\n",
    "    # save in case of interruption\n",
    "    print('alpha:', alpha, 'Number of tries ran: ', len(raw_regret[str(round(alpha,2))]))\n",
    "    np.save('scores/raw_regret.npy', raw_regret)\n",
    "    np.save('scores/local_reward.npy',local_reward)\n",
    "    np.save('scores/global_reward.npy',global_reward)\n",
    "    np.save('scores/mixed_reward.npy',mixed_reward)\n",
    "    np.save('scores/regret_reward.npy', regret_reward)\n",
    "    del raw_regret, local_reward, global_reward, regret_reward"
   ]
  },
  {
   "cell_type": "code",
   "execution_count": null,
   "metadata": {},
   "outputs": [],
   "source": [
    "try:\n",
    "    regret_reward = np.load('scores_movielens/regret_reward.npy',allow_pickle=True).item()\n",
    "except FileNotFoundError:\n",
    "    regret_reward = {}\n",
    "    \n",
    "horizon_plot = -1\n",
    "fig = plt.figure(1,figsize=(9,6))\n",
    "for alpha in alpha_list:\n",
    "    plt.plot(regret_reward[str(round(alpha,2))][0][:horizon_plot], label=str(alpha))\n",
    "plt.xlabel('$t$', fontsize=20)\n",
    "plt.ylabel('Regret', fontsize=20)\n",
    "plt.legend(fontsize=14)\n",
    "plt.grid(alpha=0.5)"
   ]
  },
  {
   "cell_type": "code",
   "execution_count": null,
   "metadata": {},
   "outputs": [],
   "source": []
  }
 ],
 "metadata": {
  "interpreter": {
   "hash": "fd69f43f58546b570e94fd7eba7b65e6bcc7a5bbc4eab0408017d18902915d69"
  },
  "kernelspec": {
   "display_name": "Python 3.7.5 64-bit",
   "name": "python3"
  },
  "language_info": {
   "codemirror_mode": {
    "name": "ipython",
    "version": 3
   },
   "file_extension": ".py",
   "mimetype": "text/x-python",
   "name": "python",
   "nbconvert_exporter": "python",
   "pygments_lexer": "ipython3",
   "version": "3.6.9"
  }
 },
 "nbformat": 4,
 "nbformat_minor": 4
}
